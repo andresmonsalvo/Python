{
 "cells": [
  {
   "cell_type": "code",
   "execution_count": 1,
   "metadata": {},
   "outputs": [],
   "source": [
    "user_boxes = {\n",
    "    'weight': [4,2,18,21,14,13],\n",
    "    'box_name': ['box1','box2', 'box3', 'box4', 'box5', 'box6']\n",
    "             }"
   ]
  },
  {
   "cell_type": "code",
   "execution_count": 3,
   "metadata": {},
   "outputs": [
    {
     "data": {
      "text/plain": [
       "{'weight': [4, 2, 18, 21, 14, 13],\n",
       " 'box_name': ['box1', 'box2', 'box3', 'box4', 'box5', 'box6']}"
      ]
     },
     "execution_count": 3,
     "metadata": {},
     "output_type": "execute_result"
    }
   ],
   "source": [
    "user_boxes"
   ]
  },
  {
   "cell_type": "code",
   "execution_count": 4,
   "metadata": {},
   "outputs": [
    {
     "data": {
      "text/plain": [
       "[4, 2, 18, 21, 14, 13]"
      ]
     },
     "execution_count": 4,
     "metadata": {},
     "output_type": "execute_result"
    }
   ],
   "source": [
    "user_boxes['weight']"
   ]
  },
  {
   "cell_type": "code",
   "execution_count": 5,
   "metadata": {},
   "outputs": [
    {
     "data": {
      "text/plain": [
       "['box1', 'box2', 'box3', 'box4', 'box5', 'box6']"
      ]
     },
     "execution_count": 5,
     "metadata": {},
     "output_type": "execute_result"
    }
   ],
   "source": [
    "user_boxes['box_name']"
   ]
  },
  {
   "cell_type": "code",
   "execution_count": 14,
   "metadata": {},
   "outputs": [
    {
     "name": "stdout",
     "output_type": "stream",
     "text": [
      "[4, 2, 18, 21, 14, 13]\n"
     ]
    }
   ],
   "source": [
    "x = user_boxes.get(\"weight\")\n",
    "print(x)"
   ]
  },
  {
   "cell_type": "code",
   "execution_count": 18,
   "metadata": {},
   "outputs": [],
   "source": [
    "def open_box_order(user_boxes):\n",
    "    \n",
    "    for i in range(len(user_boxes['weight'])):\n",
    "        \n",
    "        for j in range(len(user_boxes['weight']) - 1):\n",
    "            \n",
    "            if user_boxes['weight'][j] > user_boxes['weight'][j+1]:\n",
    "                \n",
    "                user_boxes['weight'][j], user_boxes['weight'][j+1] = user_boxes['weight'][j + 1],user_boxes['weight'][j]\n",
    "                user_boxes['box_name'][j], user_boxes['box_name'][j+1] = user_boxes['box_name'][j + 1],user_boxes['box_name'][j]\n",
    "                \n",
    "    return print(user_boxes['box_name'])"
   ]
  },
  {
   "cell_type": "code",
   "execution_count": 19,
   "metadata": {},
   "outputs": [
    {
     "name": "stdout",
     "output_type": "stream",
     "text": [
      "['box2', 'box1', 'box6', 'box5', 'box3', 'box4']\n"
     ]
    }
   ],
   "source": [
    "open_box_order(user_boxes)"
   ]
  },
  {
   "cell_type": "code",
   "execution_count": 20,
   "metadata": {},
   "outputs": [
    {
     "data": {
      "text/plain": [
       "{'weight': [2, 4, 13, 14, 18, 21],\n",
       " 'box_name': ['box2', 'box1', 'box6', 'box5', 'box3', 'box4']}"
      ]
     },
     "execution_count": 20,
     "metadata": {},
     "output_type": "execute_result"
    }
   ],
   "source": [
    "user_boxes"
   ]
  },
  {
   "cell_type": "code",
   "execution_count": null,
   "metadata": {},
   "outputs": [],
   "source": []
  }
 ],
 "metadata": {
  "kernelspec": {
   "display_name": "Python 3",
   "language": "python",
   "name": "python3"
  },
  "language_info": {
   "codemirror_mode": {
    "name": "ipython",
    "version": 3
   },
   "file_extension": ".py",
   "mimetype": "text/x-python",
   "name": "python",
   "nbconvert_exporter": "python",
   "pygments_lexer": "ipython3",
   "version": "3.8.3"
  }
 },
 "nbformat": 4,
 "nbformat_minor": 4
}
