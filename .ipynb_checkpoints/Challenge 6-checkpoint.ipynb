{
 "cells": [
  {
   "cell_type": "code",
   "execution_count": 6,
   "metadata": {},
   "outputs": [
    {
     "data": {
      "text/plain": [
       "[9,\n",
       " 3,\n",
       " 1,\n",
       " 21,\n",
       " 35,\n",
       " 53,\n",
       " 23,\n",
       " 14,\n",
       " 61,\n",
       " 39,\n",
       " 9,\n",
       " 17,\n",
       " 16,\n",
       " 75,\n",
       " 48,\n",
       " 37,\n",
       " 18,\n",
       " 1,\n",
       " 53,\n",
       " 38,\n",
       " 30,\n",
       " 44,\n",
       " 12,\n",
       " 14,\n",
       " 46,\n",
       " 26,\n",
       " 3,\n",
       " 9,\n",
       " 96,\n",
       " 3,\n",
       " 43,\n",
       " 44,\n",
       " 60,\n",
       " 14,\n",
       " 4,\n",
       " 68,\n",
       " 54,\n",
       " 24,\n",
       " 25,\n",
       " 29,\n",
       " 39,\n",
       " 18,\n",
       " 1,\n",
       " 8,\n",
       " 57,\n",
       " 21,\n",
       " 5,\n",
       " 69,\n",
       " 67,\n",
       " 46,\n",
       " 27,\n",
       " 37,\n",
       " 47,\n",
       " 12,\n",
       " 59,\n",
       " 16,\n",
       " 10,\n",
       " 14,\n",
       " 36,\n",
       " 2,\n",
       " 9,\n",
       " 79,\n",
       " 52,\n",
       " 28,\n",
       " 35,\n",
       " 30,\n",
       " 29,\n",
       " 5,\n",
       " 11,\n",
       " 1,\n",
       " 52,\n",
       " 67,\n",
       " 2,\n",
       " 40,\n",
       " 26,\n",
       " 4,\n",
       " 19,\n",
       " 17,\n",
       " 7,\n",
       " 58,\n",
       " 23,\n",
       " 20,\n",
       " 38,\n",
       " 18,\n",
       " 1,\n",
       " 25,\n",
       " 39,\n",
       " 26,\n",
       " 27,\n",
       " 93,\n",
       " 8,\n",
       " 12,\n",
       " 2,\n",
       " 12,\n",
       " 53,\n",
       " 9,\n",
       " 1,\n",
       " 40,\n",
       " 6,\n",
       " 5]"
      ]
     },
     "execution_count": 6,
     "metadata": {},
     "output_type": "execute_result"
    }
   ],
   "source": [
    "import random \n",
    "random.seed(34)\n",
    "\n",
    "hole_sizes = [random.randint(1, i) for i in range(1, 101)]\n",
    "random.shuffle(hole_sizes)\n",
    "\n",
    "# hole sizes in mm\n",
    "hole_sizes[:100]"
   ]
  },
  {
   "cell_type": "code",
   "execution_count": 19,
   "metadata": {},
   "outputs": [
    {
     "data": {
      "text/plain": [
       "28.39"
      ]
     },
     "execution_count": 19,
     "metadata": {},
     "output_type": "execute_result"
    }
   ],
   "source": [
    "import pandas as pd \n",
    "\n",
    "series = pd.Series(hole_sizes)\n",
    "series.mean()"
   ]
  },
  {
   "cell_type": "code",
   "execution_count": 20,
   "metadata": {},
   "outputs": [
    {
     "data": {
      "text/plain": [
       "96"
      ]
     },
     "execution_count": 20,
     "metadata": {},
     "output_type": "execute_result"
    }
   ],
   "source": [
    "series.max()"
   ]
  },
  {
   "cell_type": "code",
   "execution_count": 21,
   "metadata": {},
   "outputs": [
    {
     "data": {
      "text/plain": [
       "1"
      ]
     },
     "execution_count": 21,
     "metadata": {},
     "output_type": "execute_result"
    }
   ],
   "source": [
    "series.min()"
   ]
  },
  {
   "cell_type": "code",
   "execution_count": 23,
   "metadata": {},
   "outputs": [
    {
     "name": "stdout",
     "output_type": "stream",
     "text": [
      "The amount of small holes is 44.\n",
      "The amount of medium holes is 52.\n",
      "The amount of large holes is 4.\n"
     ]
    }
   ],
   "source": [
    "count_small = 0\n",
    "count_medium = 0\n",
    "count_large = 0 \n",
    "\n",
    "for i in hole_sizes:\n",
    "    if i < 20:\n",
    "        count_small += 1\n",
    "    elif i >= 20 and i < 70:\n",
    "        count_medium += 1       \n",
    "    else:\n",
    "        count_large += 1\n",
    "        \n",
    "print(f'The amount of small holes is {count_small}.')\n",
    "print(f'The amount of medium holes is {count_medium}.')\n",
    "print(f'The amount of large holes is {count_large}.')"
   ]
  },
  {
   "cell_type": "code",
   "execution_count": 26,
   "metadata": {},
   "outputs": [
    {
     "name": "stdout",
     "output_type": "stream",
     "text": [
      "1.488\n"
     ]
    }
   ],
   "source": [
    "average_cost = ((count_small*1.3)+(count_medium*1.6)+(count_large*2.1))/ 100\n",
    "print(round(average_cost,4))"
   ]
  },
  {
   "cell_type": "code",
   "execution_count": 27,
   "metadata": {},
   "outputs": [
    {
     "name": "stdout",
     "output_type": "stream",
     "text": [
      "148.8\n"
     ]
    }
   ],
   "source": [
    "total_cost = ((count_small*1.3)+(count_medium*1.6)+(count_large*2.1))\n",
    "print(round(total_cost,4))"
   ]
  },
  {
   "cell_type": "code",
   "execution_count": 28,
   "metadata": {},
   "outputs": [
    {
     "name": "stdout",
     "output_type": "stream",
     "text": [
      "148.8\n"
     ]
    }
   ],
   "source": [
    "total_cost_small = 0\n",
    "total_cost_medium = 0\n",
    "total_cost_large = 0\n",
    "\n",
    "for i in hole_sizes:\n",
    "    if i< 20:\n",
    "        total_cost_small = count_small * 1.3\n",
    "    elif i>=20 and i<70:\n",
    "        total_cost_medium = count_medium * 1.6\n",
    "    else:\n",
    "        total_cost_large = count_large * 2.1\n",
    "        \n",
    "print(round((total_cost_small + total_cost_medium + total_cost_large),4))"
   ]
  },
  {
   "cell_type": "code",
   "execution_count": null,
   "metadata": {},
   "outputs": [],
   "source": []
  }
 ],
 "metadata": {
  "kernelspec": {
   "display_name": "Python 3",
   "language": "python",
   "name": "python3"
  },
  "language_info": {
   "codemirror_mode": {
    "name": "ipython",
    "version": 3
   },
   "file_extension": ".py",
   "mimetype": "text/x-python",
   "name": "python",
   "nbconvert_exporter": "python",
   "pygments_lexer": "ipython3",
   "version": "3.8.3"
  }
 },
 "nbformat": 4,
 "nbformat_minor": 4
}
