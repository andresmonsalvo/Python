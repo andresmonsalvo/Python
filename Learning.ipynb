{
 "cells": [
  {
   "cell_type": "code",
   "execution_count": 1,
   "metadata": {},
   "outputs": [],
   "source": [
    "basket = [\"Banana\", [\"Apples\", [\"Oranges\"], \"Blueberries\"]];  # list in python, array in others"
   ]
  },
  {
   "cell_type": "code",
   "execution_count": 2,
   "metadata": {},
   "outputs": [
    {
     "name": "stdout",
     "output_type": "stream",
     "text": [
      "Oranges\n"
     ]
    }
   ],
   "source": [
    "print(basket[1][1][0])"
   ]
  },
  {
   "cell_type": "code",
   "execution_count": 3,
   "metadata": {},
   "outputs": [
    {
     "name": "stdout",
     "output_type": "stream",
     "text": [
      "2\n"
     ]
    }
   ],
   "source": [
    "print(len(basket))"
   ]
  },
  {
   "cell_type": "code",
   "execution_count": 4,
   "metadata": {},
   "outputs": [],
   "source": [
    "basket.insert(1,100) # inserts at an index location"
   ]
  },
  {
   "cell_type": "code",
   "execution_count": 5,
   "metadata": {},
   "outputs": [
    {
     "name": "stdout",
     "output_type": "stream",
     "text": [
      "['Banana', 100, ['Apples', ['Oranges'], 'Blueberries']]\n"
     ]
    }
   ],
   "source": [
    "print(basket)"
   ]
  },
  {
   "cell_type": "code",
   "execution_count": 6,
   "metadata": {},
   "outputs": [
    {
     "name": "stdout",
     "output_type": "stream",
     "text": [
      "['Banana', 100, ['Apples', ['Oranges'], 'Blueberries']]\n"
     ]
    }
   ],
   "source": [
    "print(basket)"
   ]
  },
  {
   "cell_type": "code",
   "execution_count": 7,
   "metadata": {},
   "outputs": [
    {
     "data": {
      "text/plain": [
       "['Apples', ['Oranges'], 'Blueberries']"
      ]
     },
     "execution_count": 7,
     "metadata": {},
     "output_type": "execute_result"
    }
   ],
   "source": [
    "basket.pop()"
   ]
  },
  {
   "cell_type": "code",
   "execution_count": 8,
   "metadata": {},
   "outputs": [
    {
     "name": "stdout",
     "output_type": "stream",
     "text": [
      "['Banana', 100]\n"
     ]
    }
   ],
   "source": [
    "print(basket)"
   ]
  },
  {
   "cell_type": "code",
   "execution_count": 9,
   "metadata": {},
   "outputs": [
    {
     "name": "stdout",
     "output_type": "stream",
     "text": [
      "1\n"
     ]
    }
   ],
   "source": [
    "print(basket.index(100))"
   ]
  },
  {
   "cell_type": "code",
   "execution_count": 10,
   "metadata": {},
   "outputs": [
    {
     "name": "stdout",
     "output_type": "stream",
     "text": [
      "['Banana', 100]\n"
     ]
    }
   ],
   "source": [
    "print(basket)"
   ]
  },
  {
   "cell_type": "code",
   "execution_count": 11,
   "metadata": {},
   "outputs": [
    {
     "data": {
      "text/plain": [
       "100"
      ]
     },
     "execution_count": 11,
     "metadata": {},
     "output_type": "execute_result"
    }
   ],
   "source": [
    "basket.pop()"
   ]
  },
  {
   "cell_type": "code",
   "execution_count": 12,
   "metadata": {},
   "outputs": [
    {
     "name": "stdout",
     "output_type": "stream",
     "text": [
      "['Banana']\n"
     ]
    }
   ],
   "source": [
    "print(basket)"
   ]
  },
  {
   "cell_type": "code",
   "execution_count": 13,
   "metadata": {},
   "outputs": [],
   "source": [
    "basket.insert(0, 'kiwi')"
   ]
  },
  {
   "cell_type": "code",
   "execution_count": 14,
   "metadata": {},
   "outputs": [
    {
     "name": "stdout",
     "output_type": "stream",
     "text": [
      "['kiwi', 'Banana']\n"
     ]
    }
   ],
   "source": [
    "print(basket)"
   ]
  },
  {
   "cell_type": "code",
   "execution_count": 15,
   "metadata": {},
   "outputs": [],
   "source": [
    "basket.append('coco')"
   ]
  },
  {
   "cell_type": "code",
   "execution_count": 16,
   "metadata": {},
   "outputs": [
    {
     "name": "stdout",
     "output_type": "stream",
     "text": [
      "['kiwi', 'Banana', 'coco']\n"
     ]
    }
   ],
   "source": [
    "print(basket)"
   ]
  },
  {
   "cell_type": "code",
   "execution_count": 17,
   "metadata": {},
   "outputs": [
    {
     "name": "stdout",
     "output_type": "stream",
     "text": [
      "['Banana', 'coco', 'kiwi']\n"
     ]
    }
   ],
   "source": [
    "print(sorted(basket))"
   ]
  },
  {
   "cell_type": "code",
   "execution_count": 18,
   "metadata": {},
   "outputs": [
    {
     "name": "stdout",
     "output_type": "stream",
     "text": [
      "(4, 5)\n"
     ]
    }
   ],
   "source": [
    "dict = {\n",
    "    123: [1,2,3],\n",
    "    True: 'hello',\n",
    "    456: (4,5)\n",
    "}\n",
    "print(dict[456])"
   ]
  },
  {
   "cell_type": "code",
   "execution_count": 19,
   "metadata": {},
   "outputs": [
    {
     "name": "stdout",
     "output_type": "stream",
     "text": [
      "[1, 2, 3]\n"
     ]
    }
   ],
   "source": [
    "print(dict[123])"
   ]
  },
  {
   "cell_type": "code",
   "execution_count": 20,
   "metadata": {},
   "outputs": [
    {
     "name": "stdout",
     "output_type": "stream",
     "text": [
      "True\n"
     ]
    }
   ],
   "source": [
    "print('hello' in dict.values())"
   ]
  },
  {
   "cell_type": "code",
   "execution_count": 21,
   "metadata": {},
   "outputs": [
    {
     "name": "stdout",
     "output_type": "stream",
     "text": [
      "False\n"
     ]
    }
   ],
   "source": [
    "print (0 !=0)"
   ]
  },
  {
   "cell_type": "code",
   "execution_count": 22,
   "metadata": {},
   "outputs": [
    {
     "name": "stdout",
     "output_type": "stream",
     "text": [
      "hello\n"
     ]
    }
   ],
   "source": [
    "print (dict[True])"
   ]
  },
  {
   "cell_type": "code",
   "execution_count": 23,
   "metadata": {},
   "outputs": [
    {
     "name": "stdout",
     "output_type": "stream",
     "text": [
      "1\n",
      "2\n",
      "3\n"
     ]
    }
   ],
   "source": [
    "for item in dict[123]:\n",
    "    print(item)"
   ]
  },
  {
   "cell_type": "code",
   "execution_count": 24,
   "metadata": {},
   "outputs": [
    {
     "name": "stdout",
     "output_type": "stream",
     "text": [
      "1\n",
      "2\n",
      "3\n"
     ]
    }
   ],
   "source": [
    "for item in (1,2,3):\n",
    "    print(item)"
   ]
  },
  {
   "cell_type": "code",
   "execution_count": 25,
   "metadata": {},
   "outputs": [
    {
     "name": "stdout",
     "output_type": "stream",
     "text": [
      "1 a\n",
      "1 b\n",
      "1 c\n",
      "2 a\n",
      "2 b\n",
      "2 c\n",
      "3 a\n",
      "3 b\n",
      "3 c\n"
     ]
    }
   ],
   "source": [
    "for item in (1,2,3):\n",
    "    for x in ['a','b','c']:\n",
    "        print(item, x)"
   ]
  },
  {
   "cell_type": "code",
   "execution_count": 26,
   "metadata": {},
   "outputs": [
    {
     "name": "stdout",
     "output_type": "stream",
     "text": [
      "1\n",
      "3\n",
      "6\n",
      "10\n",
      "15\n",
      "21\n",
      "28\n",
      "36\n",
      "45\n",
      "55\n"
     ]
    }
   ],
   "source": [
    "my_list = [1,2,3,4,5,6,7,8,9,10]\n",
    "\n",
    "counter = 0\n",
    "for item in my_list:\n",
    "    counter = counter + item\n",
    "    print(counter)"
   ]
  },
  {
   "cell_type": "code",
   "execution_count": 27,
   "metadata": {},
   "outputs": [
    {
     "name": "stdout",
     "output_type": "stream",
     "text": [
      "55\n"
     ]
    }
   ],
   "source": [
    "my_list = [1,2,3,4,5,6,7,8,9,10]\n",
    "\n",
    "counter = 0\n",
    "for item in my_list:\n",
    "    counter = counter + item\n",
    "print(counter)"
   ]
  },
  {
   "cell_type": "code",
   "execution_count": 28,
   "metadata": {
    "scrolled": true
   },
   "outputs": [
    {
     "name": "stdout",
     "output_type": "stream",
     "text": [
      "0\n",
      "5\n",
      "10\n",
      "15\n",
      "20\n",
      "25\n",
      "30\n",
      "35\n",
      "40\n",
      "45\n",
      "50\n",
      "55\n",
      "60\n",
      "65\n",
      "70\n",
      "75\n",
      "80\n",
      "85\n",
      "90\n",
      "95\n"
     ]
    }
   ],
   "source": [
    "for number in range(0,100,5):\n",
    "    print(number)"
   ]
  },
  {
   "cell_type": "code",
   "execution_count": 29,
   "metadata": {},
   "outputs": [
    {
     "name": "stdout",
     "output_type": "stream",
     "text": [
      "[0, 1, 2, 3, 4, 5, 6, 7, 8, 9]\n",
      "[0, 1, 2, 3, 4, 5, 6, 7, 8, 9]\n"
     ]
    }
   ],
   "source": [
    "for x in range(2):\n",
    "    print(list(range(10)))"
   ]
  },
  {
   "cell_type": "code",
   "execution_count": 30,
   "metadata": {},
   "outputs": [
    {
     "name": "stdout",
     "output_type": "stream",
     "text": [
      "0 h\n",
      "1 e\n",
      "2 l\n",
      "3 l\n",
      "4 l\n",
      "5 o\n",
      "6 o\n",
      "7 o\n",
      "8 o\n"
     ]
    }
   ],
   "source": [
    "for i,char in enumerate('hellloooo'):\n",
    "    print(i,char)"
   ]
  },
  {
   "cell_type": "code",
   "execution_count": 31,
   "metadata": {},
   "outputs": [
    {
     "name": "stdout",
     "output_type": "stream",
     "text": [
      "50\n"
     ]
    }
   ],
   "source": [
    "for i,char in enumerate(list(range(100))):\n",
    "    if char ==50:\n",
    "        print(i)"
   ]
  },
  {
   "cell_type": "code",
   "execution_count": null,
   "metadata": {},
   "outputs": [],
   "source": [
    "i=0\n",
    "while i<50:\n",
    "    print(i)\n",
    "    i+=1"
   ]
  },
  {
   "cell_type": "code",
   "execution_count": null,
   "metadata": {},
   "outputs": [],
   "source": [
    "for i,char in enumerate(list(range(100))):\n",
    "    if char ==50:\n",
    "        print(i)"
   ]
  },
  {
   "cell_type": "code",
   "execution_count": 5,
   "metadata": {},
   "outputs": [
    {
     "name": "stdout",
     "output_type": "stream",
     "text": [
      "0\n",
      "1\n",
      "2\n",
      "3\n",
      "4\n",
      "5\n",
      "6\n",
      "7\n",
      "8\n",
      "9\n",
      "done\n"
     ]
    }
   ],
   "source": [
    "i=0\n",
    "while i<10:\n",
    "    print(i)\n",
    "    i+=1\n",
    "else:\n",
    "    print('done')"
   ]
  },
  {
   "cell_type": "code",
   "execution_count": 7,
   "metadata": {},
   "outputs": [
    {
     "name": "stdout",
     "output_type": "stream",
     "text": [
      "1\n",
      "2\n",
      "3\n",
      "1\n",
      "2\n",
      "3\n"
     ]
    }
   ],
   "source": [
    "my_list = [1,2,3]\n",
    "for items in my_list:\n",
    "    print(items)\n",
    "\n",
    "i=0\n",
    "while i<len(my_list):\n",
    "    print(my_list[i])\n",
    "    i+=1"
   ]
  },
  {
   "cell_type": "code",
   "execution_count": 18,
   "metadata": {},
   "outputs": [
    {
     "name": "stdout",
     "output_type": "stream",
     "text": [
      "   *  \n",
      "  **  "
     ]
    }
   ],
   "source": [
    "picture = [\n",
    "  [0,0,0,1,0,0,0],\n",
    "  [0,0,1,1,1,0,0],\n",
    "  [0,1,1,1,1,1,0],\n",
    "  [1,1,1,1,1,1,1],\n",
    "  [0,0,0,1,0,0,0],\n",
    "  [0,0,0,1,0,0,0]\n",
    "]\n",
    "\n",
    "for item in picture:\n",
    "    if item[0]==0:\n",
    "        print(' ', end='')\n",
    "    else:\n",
    "        print('*', end='')\n",
    "print('')\n",
    "for item in picture:\n",
    "    if item[1]==0:\n",
    "        print(' ', end='')\n",
    "    else:\n",
    "        print('*', end='')"
   ]
  },
  {
   "cell_type": "code",
   "execution_count": 25,
   "metadata": {},
   "outputs": [
    {
     "name": "stdout",
     "output_type": "stream",
     "text": [
      "   *   \n",
      "  ***  \n",
      " ***** \n",
      "*******\n",
      "   *   \n",
      "   *   \n"
     ]
    }
   ],
   "source": [
    "picture = [\n",
    "  [0,0,0,1,0,0,0],\n",
    "  [0,0,1,1,1,0,0],\n",
    "  [0,1,1,1,1,1,0],\n",
    "  [1,1,1,1,1,1,1],\n",
    "  [0,0,0,1,0,0,0],\n",
    "  [0,0,0,1,0,0,0]\n",
    "]\n",
    "\n",
    "for row in picture:\n",
    "    for pixel in row:\n",
    "        if pixel==0:\n",
    "            print(' ', end='')\n",
    "        else:\n",
    "            print('*', end='')\n",
    "    print('')"
   ]
  },
  {
   "cell_type": "code",
   "execution_count": 36,
   "metadata": {},
   "outputs": [
    {
     "name": "stdout",
     "output_type": "stream",
     "text": [
      "\n",
      "\n",
      "\n",
      "\n",
      "\n",
      "\n",
      "\n"
     ]
    }
   ],
   "source": [
    "some_list = ['a','b','c','d','e','e','c']\n",
    "\n",
    "i=0\n",
    "for item in some_list:\n",
    "        if some_list[i]==some_list[i+1]:\n",
    "            print(some_list[i])\n",
    "            i+=1\n",
    "        else:\n",
    "            print('')"
   ]
  },
  {
   "cell_type": "code",
   "execution_count": 40,
   "metadata": {},
   "outputs": [
    {
     "name": "stdout",
     "output_type": "stream",
     "text": [
      "['c', 'e']\n"
     ]
    }
   ],
   "source": [
    "some_list = ['a','b','c','d','e','e','c']\n",
    "duplicates=[]\n",
    "for item in some_list:\n",
    "        if some_list.count(item)>1:\n",
    "            if item not in duplicates:\n",
    "                duplicates.append(item)\n",
    "print(duplicates)"
   ]
  },
  {
   "cell_type": "code",
   "execution_count": 42,
   "metadata": {},
   "outputs": [
    {
     "name": "stdout",
     "output_type": "stream",
     "text": [
      "hellooo\n"
     ]
    }
   ],
   "source": [
    "def say_hello():\n",
    "    print('hellooo')\n",
    "    \n",
    "say_hello()"
   ]
  },
  {
   "cell_type": "code",
   "execution_count": 44,
   "metadata": {},
   "outputs": [
    {
     "name": "stdout",
     "output_type": "stream",
     "text": [
      "   *   \n",
      "  ***  \n",
      " ***** \n",
      "*******\n",
      "   *   \n",
      "   *   \n"
     ]
    }
   ],
   "source": [
    "def show_tree():\n",
    "    for row in picture:\n",
    "        for pixel in row:\n",
    "            if pixel==0:\n",
    "                print(' ', end='')\n",
    "            else:\n",
    "                print('*', end='')\n",
    "        print('')\n",
    "show_tree()"
   ]
  },
  {
   "cell_type": "code",
   "execution_count": 46,
   "metadata": {},
   "outputs": [
    {
     "name": "stdout",
     "output_type": "stream",
     "text": [
      "hellooo Andres:)\n",
      "hellooo Felipe:)\n"
     ]
    }
   ],
   "source": [
    "def say_hello(name,emoji):\n",
    "    print(f'hellooo {name}{emoji}')\n",
    "    \n",
    "say_hello('Andres',':)' )\n",
    "say_hello('Felipe',':)' )"
   ]
  },
  {
   "cell_type": "code",
   "execution_count": 47,
   "metadata": {},
   "outputs": [
    {
     "name": "stdout",
     "output_type": "stream",
     "text": [
      "hellooo Andres:)\n",
      "hellooo Felipe:)\n",
      "hellooo Lucas:))\n"
     ]
    }
   ],
   "source": [
    "def say_hello(name='Lucas',emoji=':))'):\n",
    "    print(f'hellooo {name}{emoji}')\n",
    "    \n",
    "say_hello('Andres',':)' )\n",
    "say_hello('Felipe',':)' )\n",
    "say_hello()"
   ]
  },
  {
   "cell_type": "code",
   "execution_count": 52,
   "metadata": {},
   "outputs": [
    {
     "name": "stdout",
     "output_type": "stream",
     "text": [
      "9\n"
     ]
    }
   ],
   "source": [
    "def sum(num1, num2):\n",
    "    return num1+num2\n",
    "    \n",
    "print(sum(4,5))"
   ]
  },
  {
   "cell_type": "code",
   "execution_count": 67,
   "metadata": {},
   "outputs": [
    {
     "name": "stdin",
     "output_type": "stream",
     "text": [
      "What is your age?:  18\n"
     ]
    },
    {
     "name": "stdout",
     "output_type": "stream",
     "text": [
      "Congratulations on your first year of driving. Enjoy the ride!\n"
     ]
    }
   ],
   "source": [
    "def checkDriverAge():\n",
    "    age = input(\"What is your age?: \")\n",
    "    if int(age) < 18:\n",
    "        print(\"Sorry, you are too young to drive this car. Powering off\")\n",
    "    elif int(age) > 18:\n",
    "        print(\"Powering On. Enjoy the ride!\");\n",
    "    elif int(age) == 18:\n",
    "        print(\"Congratulations on your first year of driving. Enjoy the ride!\")\n",
    "checkDriverAge()"
   ]
  },
  {
   "cell_type": "code",
   "execution_count": 70,
   "metadata": {},
   "outputs": [
    {
     "name": "stdout",
     "output_type": "stream",
     "text": [
      "Sorry, you are too young to drive this car. Powering off\n"
     ]
    }
   ],
   "source": [
    "def checkDriverAge(age=0):\n",
    "    if int(age) < 18:\n",
    "        print(\"Sorry, you are too young to drive this car. Powering off\")\n",
    "    elif int(age) > 18:\n",
    "        print(\"Powering On. Enjoy the ride!\");\n",
    "    elif int(age) == 18:\n",
    "        print(\"Congratulations on your first year of driving. Enjoy the ride!\")\n",
    "checkDriverAge(15)"
   ]
  },
  {
   "cell_type": "code",
   "execution_count": null,
   "metadata": {},
   "outputs": [],
   "source": []
  },
  {
   "cell_type": "code",
   "execution_count": 81,
   "metadata": {},
   "outputs": [
    {
     "name": "stdout",
     "output_type": "stream",
     "text": [
      "60\n"
     ]
    }
   ],
   "source": [
    "def highest_even(list):\n",
    "    evens=[]\n",
    "    for item in list:\n",
    "        if item %2 == 0:\n",
    "            evens.append(item)\n",
    "    return max(evens)\n",
    "            \n",
    "print(highest_even([10,20,60,5,4,7,8,9,15,28,44]))"
   ]
  },
  {
   "cell_type": "code",
   "execution_count": 98,
   "metadata": {},
   "outputs": [
    {
     "name": "stdout",
     "output_type": "stream",
     "text": [
      "1\n"
     ]
    }
   ],
   "source": [
    "a=10\n",
    "def confusion(a):\n",
    "    print(a)\n",
    "confusion(1)"
   ]
  },
  {
   "cell_type": "code",
   "execution_count": 100,
   "metadata": {},
   "outputs": [
    {
     "name": "stdout",
     "output_type": "stream",
     "text": [
      "inner: nonlocal\n",
      "outer: local\n"
     ]
    }
   ],
   "source": [
    "def outer():\n",
    "    x = \"local\"\n",
    "    def inner():\n",
    "        #nonlocal x\n",
    "        x = \"nonlocal\"\n",
    "        print(\"inner:\", x)\n",
    "    inner()\n",
    "    print(\"outer:\", x)\n",
    "outer()"
   ]
  },
  {
   "cell_type": "code",
   "execution_count": null,
   "metadata": {},
   "outputs": [],
   "source": []
  },
  {
   "cell_type": "code",
   "execution_count": null,
   "metadata": {},
   "outputs": [],
   "source": []
  },
  {
   "cell_type": "code",
   "execution_count": null,
   "metadata": {},
   "outputs": [],
   "source": []
  },
  {
   "cell_type": "code",
   "execution_count": null,
   "metadata": {},
   "outputs": [],
   "source": []
  },
  {
   "cell_type": "code",
   "execution_count": null,
   "metadata": {},
   "outputs": [],
   "source": []
  },
  {
   "cell_type": "code",
   "execution_count": null,
   "metadata": {},
   "outputs": [],
   "source": []
  },
  {
   "cell_type": "code",
   "execution_count": null,
   "metadata": {},
   "outputs": [],
   "source": []
  },
  {
   "cell_type": "code",
   "execution_count": null,
   "metadata": {},
   "outputs": [],
   "source": []
  },
  {
   "cell_type": "code",
   "execution_count": null,
   "metadata": {},
   "outputs": [],
   "source": []
  },
  {
   "cell_type": "code",
   "execution_count": null,
   "metadata": {},
   "outputs": [],
   "source": []
  },
  {
   "cell_type": "code",
   "execution_count": null,
   "metadata": {},
   "outputs": [],
   "source": []
  }
 ],
 "metadata": {
  "kernelspec": {
   "display_name": "Python 3",
   "language": "python",
   "name": "python3"
  },
  "language_info": {
   "codemirror_mode": {
    "name": "ipython",
    "version": 3
   },
   "file_extension": ".py",
   "mimetype": "text/x-python",
   "name": "python",
   "nbconvert_exporter": "python",
   "pygments_lexer": "ipython3",
   "version": "3.8.3"
  }
 },
 "nbformat": 4,
 "nbformat_minor": 4
}
