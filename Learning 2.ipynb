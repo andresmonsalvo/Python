{
 "cells": [
  {
   "cell_type": "code",
   "execution_count": 1,
   "metadata": {},
   "outputs": [
    {
     "name": "stdout",
     "output_type": "stream",
     "text": [
      "<class '__main__.BigObject'>\n"
     ]
    }
   ],
   "source": [
    "# OOP\n",
    "class BigObject: # class\n",
    "    #code\n",
    "    pass\n",
    "\n",
    "obj1 = BigObject() # creating a new obj1 by instanciating a class BigObject \n",
    "obj2 = BigObject()\n",
    "obj3 = BigObject()\n",
    "\n",
    "print(type(obj1))"
   ]
  },
  {
   "cell_type": "code",
   "execution_count": 2,
   "metadata": {},
   "outputs": [],
   "source": [
    "#Example"
   ]
  },
  {
   "cell_type": "code",
   "execution_count": 3,
   "metadata": {},
   "outputs": [
    {
     "name": "stdout",
     "output_type": "stream",
     "text": [
      "Cindy\n",
      "21\n",
      "run\n",
      "done\n",
      "True\n"
     ]
    }
   ],
   "source": [
    "class PlayerCharacter:\n",
    "    membership=True  # Class Object Attribute, it is constant along the code\n",
    "    def __init__(self, name, age):  # constructor method\n",
    "        self.name=name # atributes change within the method\n",
    "        self.age=age\n",
    "        \n",
    "    def run(self):\n",
    "        print('run')\n",
    "        return 'done'\n",
    "        \n",
    "player1=PlayerCharacter('Cindy',44)\n",
    "player2=PlayerCharacter('Tom',21)\n",
    "\n",
    "print(player1.name)\n",
    "print(player2.age)\n",
    "print(player1.run())\n",
    "print(player1.membership)"
   ]
  },
  {
   "cell_type": "code",
   "execution_count": 4,
   "metadata": {},
   "outputs": [
    {
     "name": "stdout",
     "output_type": "stream",
     "text": [
      "The oldest cat is 5 years old.\n"
     ]
    }
   ],
   "source": [
    "#Given the below class:\n",
    "class Cat:\n",
    "    species = 'mammal'\n",
    "    def __init__(self, name, age):\n",
    "        self.name = name\n",
    "        self.age = age\n",
    "\n",
    "\n",
    "# 1 Instantiate the Cat object with 3 cats\n",
    "\n",
    "cat1=Cat('Tom',5)\n",
    "cat2=Cat('Liz',2)\n",
    "cat3=Cat('Phil',4)\n",
    "\n",
    "\n",
    "# 2 Create a function that finds the oldest cat\n",
    "def oldest(*args):\n",
    "    return max(args)\n",
    "\n",
    "# 3 Print out: \"The oldest cat is x years old.\". x will be the oldest cat age by using the function in #2\n",
    "\n",
    "print(f\"The oldest cat is {oldest(cat1.age, cat2.age, cat3.age)} years old.\")"
   ]
  },
  {
   "cell_type": "code",
   "execution_count": 5,
   "metadata": {},
   "outputs": [
    {
     "ename": "IndentationError",
     "evalue": "expected an indented block (<ipython-input-5-c2443a67ab33>, line 8)",
     "output_type": "error",
     "traceback": [
      "\u001b[1;36m  File \u001b[1;32m\"<ipython-input-5-c2443a67ab33>\"\u001b[1;36m, line \u001b[1;32m8\u001b[0m\n\u001b[1;33m    @classmethod\u001b[0m\n\u001b[1;37m    ^\u001b[0m\n\u001b[1;31mIndentationError\u001b[0m\u001b[1;31m:\u001b[0m expected an indented block\n"
     ]
    }
   ],
   "source": [
    "class NameOfClass():\n",
    "    def __init__(self, param1, param2):\n",
    "        self.param1=param1\n",
    "        \n",
    "    def method(self):\n",
    "        #code\n",
    "        \n",
    "    @classmethod\n",
    "    def cls_method(cls, param1, param2):\n",
    "        #code\n",
    "        \n",
    "    @staticmethod\n",
    "    def stc_method(param1, param2):\n",
    "        #code"
   ]
  },
  {
   "cell_type": "code",
   "execution_count": 6,
   "metadata": {},
   "outputs": [
    {
     "name": "stdout",
     "output_type": "stream",
     "text": [
      "<__main__.Dog object at 0x00000208B1CFCB20>\n"
     ]
    }
   ],
   "source": [
    "class Dog:\n",
    "    def __init__(self, name, age):\n",
    "        self.name=name\n",
    "        self.age=age\n",
    "  \n",
    "    def run(self):\n",
    "        return self\n",
    "\n",
    "dog1=Dog('Tom',3)\n",
    "print(dog1.run())"
   ]
  },
  {
   "cell_type": "code",
   "execution_count": 7,
   "metadata": {},
   "outputs": [
    {
     "name": "stdout",
     "output_type": "stream",
     "text": [
      "3\n"
     ]
    }
   ],
   "source": [
    "class Dog:\n",
    "    def __init__(self, name, age):\n",
    "        self.name=name\n",
    "        self.age=age\n",
    "  \n",
    "    def run(self):\n",
    "        return self\n",
    "\n",
    "    @classmethod   \n",
    "    def shout(cls, num1, num2):\n",
    "        return num1 + num2\n",
    "\n",
    "print(Dog.shout(1,2))"
   ]
  },
  {
   "cell_type": "code",
   "execution_count": 8,
   "metadata": {},
   "outputs": [
    {
     "name": "stdout",
     "output_type": "stream",
     "text": [
      "7\n"
     ]
    }
   ],
   "source": [
    "class Dog:\n",
    "    def __init__(self, name, age):\n",
    "        self.name=name\n",
    "        self.age=age\n",
    "  \n",
    "    def run(self):\n",
    "        return self\n",
    "\n",
    "    @staticmethod\n",
    "    def stc(param1, param2):\n",
    "        return param1 + param2\n",
    "print(Dog.stc(3,4))"
   ]
  },
  {
   "cell_type": "code",
   "execution_count": 9,
   "metadata": {},
   "outputs": [
    {
     "name": "stdout",
     "output_type": "stream",
     "text": [
      "andres\n",
      "50\n",
      "felipe\n",
      "100\n"
     ]
    }
   ],
   "source": [
    "# OOP Pillar 1: Encapsulation   within a class\n",
    "\n",
    "class PlayerCharacter:\n",
    "    def __init__(self, name, age):\n",
    "        self.name=name\n",
    "        self.age=age\n",
    "        \n",
    "player1=PlayerCharacter('andres', 50)\n",
    "print(player1.name)\n",
    "print(player1.age)\n",
    "\n",
    "player2={'name':'felipe','age': 100}\n",
    "print(player2['name'])\n",
    "print(player2['age'])"
   ]
  },
  {
   "cell_type": "code",
   "execution_count": 10,
   "metadata": {},
   "outputs": [
    {
     "name": "stdout",
     "output_type": "stream",
     "text": [
      "my name is andres, and I am 50 years old\n"
     ]
    }
   ],
   "source": [
    "# OOP Pillar 2: Abstraction\n",
    "\n",
    "class PlayerCharacter:\n",
    "    def __init__(self, name, age):\n",
    "        self.name=name\n",
    "        self.age=age\n",
    "        \n",
    "    def run(self):\n",
    "        print('run')\n",
    "\n",
    "    \n",
    "    def speak(self):\n",
    "        print(f'my name is {self.name}, and I am {self.age} years old')\n",
    "\n",
    "player1=PlayerCharacter('andres', 50)\n",
    "player1.speak()"
   ]
  },
  {
   "cell_type": "code",
   "execution_count": 11,
   "metadata": {},
   "outputs": [
    {
     "name": "stdout",
     "output_type": "stream",
     "text": [
      "attacking with power of 50\n",
      "attacking with arrows: arrows left 100\n"
     ]
    }
   ],
   "source": [
    "# OOP Pillar 3: Inheritance  parent and child relationships\n",
    "\n",
    "class User:\n",
    "    def sign_in(self):\n",
    "        print('logged in')\n",
    "        \n",
    "class Wizard(User):\n",
    "    def __init__(self, name, power):\n",
    "        self.name=name\n",
    "        self.power=power\n",
    "        \n",
    "    def attack(self):\n",
    "        print(f'attacking with power of {self.power}')\n",
    "\n",
    "class Archer(User):\n",
    "    def __init__(self, name, num_arrows):\n",
    "        self.name=name\n",
    "        self.num_arrows=num_arrows\n",
    "              \n",
    "    def attack(self):\n",
    "        print(f'attacking with arrows: arrows left {self.num_arrows}')\n",
    "\n",
    "wizard1=Wizard('Merlin', 50)\n",
    "archer1=Archer('Robin', 100)\n",
    "wizard1.attack()\n",
    "archer1.attack()"
   ]
  },
  {
   "cell_type": "code",
   "execution_count": 12,
   "metadata": {},
   "outputs": [
    {
     "name": "stdout",
     "output_type": "stream",
     "text": [
      "True\n",
      "True\n",
      "True\n"
     ]
    }
   ],
   "source": [
    "# OOP Pillar 3: ....Inheritance....\n",
    "\n",
    "class User:\n",
    "    def sign_in(self):\n",
    "        print('logged in')\n",
    "        \n",
    "class Wizard(User):\n",
    "    def __init__(self, name, power):\n",
    "        self.name=name\n",
    "        self.power=power\n",
    "        \n",
    "    def attack(self):\n",
    "        print(f'attacking with power of {self.power}')\n",
    "\n",
    "class Archer(User):\n",
    "    def __init__(self, name, num_arrows):\n",
    "        self.name=name\n",
    "        self.num_arrows=num_arrows\n",
    "              \n",
    "    def attack(self):\n",
    "        print(f'attacking with arrows: arrows left {self.num_arrows}')\n",
    "\n",
    "wizard1=Wizard('Merlin', 50)\n",
    "\n",
    "print(isinstance(wizard1, Wizard))\n",
    "print(isinstance(wizard1, User))\n",
    "print(isinstance(wizard1, object))"
   ]
  },
  {
   "cell_type": "code",
   "execution_count": 13,
   "metadata": {},
   "outputs": [
    {
     "name": "stdout",
     "output_type": "stream",
     "text": [
      "attacking with power of 50\n",
      "attacking with arrows: arrows left 100\n"
     ]
    }
   ],
   "source": [
    "# OOP Pillar 4: Polymorphism classes can share methods names ie. attack\n",
    "\n",
    "class User:\n",
    "    def sign_in(self):\n",
    "        print('logged in')\n",
    "        \n",
    "class Wizard(User):\n",
    "    def __init__(self, name, power):\n",
    "        self.name=name\n",
    "        self.power=power\n",
    "        \n",
    "    def attack(self):\n",
    "        print(f'attacking with power of {self.power}')\n",
    "\n",
    "class Archer(User):\n",
    "    def __init__(self, name, num_arrows):\n",
    "        self.name=name\n",
    "        self.num_arrows=num_arrows\n",
    "              \n",
    "    def attack(self):\n",
    "        print(f'attacking with arrows: arrows left {self.num_arrows}')\n",
    "\n",
    "wizard1=Wizard('Merlin', 50)\n",
    "archer1=Archer('Robin', 100)\n",
    "wizard1.attack()\n",
    "archer1.attack()"
   ]
  },
  {
   "cell_type": "code",
   "execution_count": 14,
   "metadata": {},
   "outputs": [
    {
     "name": "stdout",
     "output_type": "stream",
     "text": [
      "Tom\n",
      "Liz\n",
      "Phil\n",
      "Simon is just walking around\n",
      "Sally is just walking around\n",
      "Hulk is just walking around\n"
     ]
    }
   ],
   "source": [
    "class Pets():\n",
    "    animals = []\n",
    "    def __init__(self, animals):\n",
    "        self.animals = animals\n",
    "\n",
    "    def walk(self):\n",
    "        for animal in self.animals:\n",
    "            print(animal.walk())\n",
    "\n",
    "class Cat():\n",
    "    is_lazy = True\n",
    "\n",
    "    def __init__(self, name, age):\n",
    "        self.name = name\n",
    "        self.age = age\n",
    "\n",
    "    def walk(self):\n",
    "        return f'{self.name} is just walking around'\n",
    "\n",
    "class Simon(Cat):\n",
    "    def sing(self, sounds):\n",
    "        return f'{sounds}'\n",
    "\n",
    "class Sally(Cat):\n",
    "    def sing(self, sounds):\n",
    "        return f'{sounds}'\n",
    "    \n",
    "#1 Add nother Cat\n",
    "\n",
    "class Hulk(Cat):\n",
    "    def sing(self, sounds):\n",
    "        return f'{sounds}'\n",
    "    \n",
    "#2 Create a list of all of the pets (create 3 cat instances from the above)\n",
    "\n",
    "my_cats = [Simon('Simon',3), Sally('Sally',2), Hulk('Hulk',4)]\n",
    "print(cat1.name)\n",
    "print(cat2.name)\n",
    "print(cat3.name)\n",
    "\n",
    "#3 Instantiate the Pet class with all your cats use variable my_pets\n",
    "\n",
    "my_pets = Pets(my_cats)\n",
    "\n",
    "#4 Output all of the cats walking using the my_pets instance\n",
    "\n",
    "my_pets.walk()"
   ]
  },
  {
   "cell_type": "code",
   "execution_count": 15,
   "metadata": {},
   "outputs": [
    {
     "name": "stdout",
     "output_type": "stream",
     "text": [
      "merlin@gmail.com\n"
     ]
    }
   ],
   "source": [
    "class User:\n",
    "    def __init__(self, email):\n",
    "        self.email=email\n",
    "        \n",
    "    def sign_in(self):\n",
    "        print('logged in')\n",
    "        \n",
    "class Wizard(User):\n",
    "    def __init__(self, name, power, email):\n",
    "        super().__init__(email)  # super allows to take init function from above class User\n",
    "        self.name=name\n",
    "        self.power=power\n",
    "        \n",
    "    def attack(self):\n",
    "        print(f'attacking with power of {self.power}')\n",
    "\n",
    "wizard1=Wizard('Merlin', 50, 'merlin@gmail.com')\n",
    "print(wizard1.email)"
   ]
  },
  {
   "cell_type": "code",
   "execution_count": 16,
   "metadata": {},
   "outputs": [
    {
     "name": "stdout",
     "output_type": "stream",
     "text": [
      "['__class__', '__delattr__', '__dict__', '__dir__', '__doc__', '__eq__', '__format__', '__ge__', '__getattribute__', '__gt__', '__hash__', '__init__', '__init_subclass__', '__le__', '__lt__', '__module__', '__ne__', '__new__', '__reduce__', '__reduce_ex__', '__repr__', '__setattr__', '__sizeof__', '__str__', '__subclasshook__', '__weakref__', 'attack', 'email', 'name', 'power', 'sign_in']\n"
     ]
    }
   ],
   "source": [
    "class User:\n",
    "    def __init__(self, email):\n",
    "        self.email=email\n",
    "        \n",
    "    def sign_in(self):\n",
    "        print('logged in')\n",
    "        \n",
    "class Wizard(User):\n",
    "    def __init__(self, name, power, email):\n",
    "        super().__init__(email)  # super allows to take init function from above class User\n",
    "        self.name=name\n",
    "        self.power=power\n",
    "        \n",
    "    def attack(self):\n",
    "        print(f'attacking with power of {self.power}')\n",
    "\n",
    "wizard1=Wizard('Merlin', 50, 'merlin@gmail.com')\n",
    "print(dir(wizard1))    # it shows all the methods affecting wizard1 and that it also has access to"
   ]
  },
  {
   "cell_type": "code",
   "execution_count": 17,
   "metadata": {},
   "outputs": [
    {
     "name": "stdout",
     "output_type": "stream",
     "text": [
      "red\n",
      "red\n",
      "5\n",
      "yes??\n",
      "Yoyo\n"
     ]
    }
   ],
   "source": [
    "#By reading the python documentation, add 3 more magic/dunder methods of your choice to this Toy class. \n",
    "class Toy():\n",
    "  def __init__(self, color, age):\n",
    "    self.color = color\n",
    "    self.age = age\n",
    "    self.my_dict = {\n",
    "        'name':'Yoyo',\n",
    "        'has_pets': False,\n",
    "    }\n",
    "\n",
    "  def __str__(self):\n",
    "    return f\"{self.color}\"\n",
    "\n",
    "  def __len__(self):\n",
    "    return 5\n",
    "\n",
    "  def __del__(self):\n",
    "    return \"deleted\"\n",
    "\n",
    "  def __call__(self):\n",
    "      return('yes??')\n",
    "\n",
    "  def __getitem__(self,i):\n",
    "      return self.my_dict[i]\n",
    "\n",
    "\n",
    "action_figure = Toy('red', 0)\n",
    "print(action_figure.__str__())\n",
    "print(str(action_figure))\n",
    "print(len(action_figure))\n",
    "print(action_figure())\n",
    "print(action_figure['name'])"
   ]
  },
  {
   "cell_type": "code",
   "execution_count": 33,
   "metadata": {},
   "outputs": [
    {
     "name": "stdout",
     "output_type": "stream",
     "text": [
      "1000\n"
     ]
    }
   ],
   "source": [
    "class SuperList():\n",
    "    def __len__(self):\n",
    "        return 1000\n",
    "\n",
    "super_list1 = SuperList();\n",
    "print(len(super_list1))"
   ]
  },
  {
   "cell_type": "code",
   "execution_count": 41,
   "metadata": {},
   "outputs": [
    {
     "name": "stdout",
     "output_type": "stream",
     "text": [
      "1000\n",
      "5\n",
      "[5]\n",
      "True\n"
     ]
    }
   ],
   "source": [
    "class SuperList(list):\n",
    "    def __len__(self):\n",
    "        return 1000\n",
    "\n",
    "super_list1 = SuperList();\n",
    "print(len(super_list1))\n",
    "\n",
    "super_list1.append(5)\n",
    "print(super_list1[0])\n",
    "print(super_list1)\n",
    "\n",
    "print(issubclass(SuperList, list))    # is SuperList a subclasss of list? True"
   ]
  },
  {
   "cell_type": "code",
   "execution_count": 58,
   "metadata": {},
   "outputs": [
    {
     "name": "stdout",
     "output_type": "stream",
     "text": [
      "run really fast\n",
      "None\n",
      "logged in\n",
      "None\n"
     ]
    }
   ],
   "source": [
    "class User:\n",
    "    def sign_in(self):\n",
    "        print('logged in')\n",
    "        \n",
    "class Wizard(User):\n",
    "    def __init__(self, name, power):\n",
    "        self.name=name\n",
    "        self.power=power\n",
    "        \n",
    "    def attack(self):\n",
    "        print(f'attacking with power of {self.power}')\n",
    "\n",
    "class Archer(User):\n",
    "    def __init__(self, name, arrows):\n",
    "        self.name=name\n",
    "        self.arrows=arrows\n",
    "              \n",
    "    def attack(self):\n",
    "        print(f'attacking with arrows: arrows left {self.arrows}')\n",
    "        \n",
    "    def run(self):\n",
    "        print('run really fast')\n",
    "\n",
    "\n",
    "class Borg(Wizard, Archer):\n",
    "     def __init__(self, name, power, arrows):\n",
    "        Archer.__init__(self, name, arrows)\n",
    "        Wizard.__init__(self, name, power)\n",
    "\n",
    "hb1= Borg('borige', 5, 100)\n",
    "print(hb1.run())\n",
    "print(hb1.sign_in())"
   ]
  },
  {
   "cell_type": "code",
   "execution_count": 59,
   "metadata": {},
   "outputs": [
    {
     "name": "stdout",
     "output_type": "stream",
     "text": [
      "1\n"
     ]
    }
   ],
   "source": [
    "#MRO - Method Resolution Order (based on inheritance properties)\n",
    "class A:\n",
    "    num = 10\n",
    "\n",
    "\n",
    "class B(A):\n",
    "    pass\n",
    "\n",
    "class C(A):\n",
    "    num = 1\n",
    "\n",
    "class D(B, C):\n",
    "    pass\n",
    "\n",
    "print(D.num)"
   ]
  },
  {
   "cell_type": "code",
   "execution_count": 62,
   "metadata": {},
   "outputs": [
    {
     "name": "stdout",
     "output_type": "stream",
     "text": [
      "[2, 4, 6]\n"
     ]
    }
   ],
   "source": [
    "def multiply_by2(li):\n",
    "    new_list=[]\n",
    "    for item in li:\n",
    "        new_list.append(item*2)\n",
    "    return new_list\n",
    "print(multiply_by2([1,2,3]))"
   ]
  },
  {
   "cell_type": "code",
   "execution_count": 68,
   "metadata": {},
   "outputs": [
    {
     "name": "stdout",
     "output_type": "stream",
     "text": [
      "[2, 4, 6]\n"
     ]
    }
   ],
   "source": [
    "# map\n",
    "\n",
    "def multiply_by2(item):\n",
    "    return item*2\n",
    "\n",
    "print(list(map(multiply_by2,[1,2,3])))"
   ]
  },
  {
   "cell_type": "code",
   "execution_count": 69,
   "metadata": {},
   "outputs": [
    {
     "name": "stdout",
     "output_type": "stream",
     "text": [
      "[2, 4, 6]\n",
      "[1, 2, 3]\n"
     ]
    }
   ],
   "source": [
    "my_list=[1,2,3]\n",
    "\n",
    "def multiply_by2(item):\n",
    "    return item*2\n",
    "\n",
    "print(list(map(multiply_by2,[1,2,3])))\n",
    "\n",
    "print(my_list)"
   ]
  },
  {
   "cell_type": "code",
   "execution_count": 70,
   "metadata": {},
   "outputs": [
    {
     "name": "stdout",
     "output_type": "stream",
     "text": [
      "[1, 3]\n",
      "[1, 2, 3]\n"
     ]
    }
   ],
   "source": [
    "# filter\n",
    "\n",
    "my_list=[1,2,3]\n",
    "\n",
    "def multiply_by2(item):\n",
    "    return item*2\n",
    "\n",
    "def only_odd(item):\n",
    "    return item % 2 != 0\n",
    "\n",
    "print(list(filter(only_odd, my_list)))\n",
    "\n",
    "print(my_list)\n"
   ]
  },
  {
   "cell_type": "code",
   "execution_count": 71,
   "metadata": {},
   "outputs": [
    {
     "name": "stdout",
     "output_type": "stream",
     "text": [
      "[(1, 10), (2, 20), (3, 30)]\n",
      "[1, 2, 3]\n"
     ]
    }
   ],
   "source": [
    "# zip\n",
    "\n",
    "my_list=[1,2,3]\n",
    "your_list = [10,20,30]\n",
    "\n",
    "def multiply_by2(item):\n",
    "    return item*2\n",
    "\n",
    "def only_odd(item):\n",
    "    return item % 2 != 0\n",
    "\n",
    "\n",
    "\n",
    "print(list(zip(my_list, your_list)))\n",
    "\n",
    "print(my_list)"
   ]
  },
  {
   "cell_type": "code",
   "execution_count": 76,
   "metadata": {},
   "outputs": [
    {
     "name": "stdout",
     "output_type": "stream",
     "text": [
      "10 1\n",
      "11 2\n",
      "13 3\n",
      "16\n",
      "[1, 2, 3]\n"
     ]
    }
   ],
   "source": [
    "# reduce\n",
    "\n",
    "from functools import reduce    #  to call the function\n",
    "\n",
    "my_list=[1,2,3]\n",
    "\n",
    "\n",
    "def multiply_by2(item):\n",
    "    return item*2\n",
    "\n",
    "def only_odd(item):\n",
    "    return item % 2 != 0\n",
    "\n",
    "def accumulator(acc, item):\n",
    "    print(acc, item)\n",
    "    return acc+ item\n",
    "\n",
    "print(reduce(accumulator, my_list, 10))\n",
    "\n",
    "print(my_list)"
   ]
  },
  {
   "cell_type": "code",
   "execution_count": 94,
   "metadata": {},
   "outputs": [
    {
     "name": "stdout",
     "output_type": "stream",
     "text": [
      "['SISI', 'BIBI', 'TITI', 'CARLA']\n",
      "['sisi', 'bibi', 'titi', 'carla']\n",
      "[(1, 'a'), (2, 'b'), (3, 'c'), (4, 'd'), (5, 'e')]\n",
      "[73, 65, 76, 100, 88]\n",
      "0 73\n",
      "73 20\n",
      "93 65\n",
      "158 19\n",
      "177 76\n",
      "253 100\n",
      "353 88\n",
      "441\n"
     ]
    }
   ],
   "source": [
    "from functools import reduce\n",
    "\n",
    "#1 Capitalize all of the pet names and print the list\n",
    "my_pets = ['sisi', 'bibi', 'titi', 'carla']\n",
    "\n",
    "def capitalize(string):\n",
    "    return string.upper()\n",
    "\n",
    "print(list(map(capitalize,my_pets)))\n",
    "\n",
    "print(my_pets)\n",
    "\n",
    "\n",
    "#2 Zip the 2 lists into a list of tuples, but sort the numbers from lowest to highest.\n",
    "my_strings = ['a', 'b', 'c', 'd', 'e']\n",
    "my_numbers = [5,4,3,2,1]\n",
    "\n",
    "print(list(zip(sorted(my_numbers),my_strings)))\n",
    "    \n",
    "\n",
    "#3 Filter the scores that pass over 50%\n",
    "scores = [73, 20, 65, 19, 76, 100, 88]\n",
    "\n",
    "def over_50(item):\n",
    "    return item > 50\n",
    "\n",
    "print(list(filter(over_50, scores)))\n",
    "\n",
    "\n",
    "#4 Combine all of the numbers that are in a list on this file using reduce (my_numbers and scores). What is the total?\n",
    "my_numbers = [5,4,3,2,1]\n",
    "scores = [73, 20, 65, 19, 76, 100, 88]\n",
    "\n",
    "def new_list(item):\n",
    "    print(my_numbers.value, scores.value)\n",
    "    return (my_numbers.value, scores.value)\n",
    "\n",
    "def accumulator(acc, item):\n",
    "    print(acc, item)\n",
    "    return acc + item\n",
    "\n",
    "print(reduce(accumulator, scores, 0))\n"
   ]
  },
  {
   "cell_type": "code",
   "execution_count": null,
   "metadata": {},
   "outputs": [],
   "source": [
    "my_list=[1,2,3]\n",
    "\n",
    "\n",
    "def multiply_by2(item):\n",
    "    return item*2\n",
    "\n",
    "def only_odd(item):\n",
    "    return item % 2 != 0\n",
    "\n",
    "def accumulator(acc, item):\n",
    "    print(acc, item)\n",
    "    return acc+ item\n",
    "\n",
    "print(reduce(accumulator, my_list, 10))\n",
    "\n",
    "print(my_list)"
   ]
  },
  {
   "cell_type": "code",
   "execution_count": 97,
   "metadata": {},
   "outputs": [
    {
     "name": "stdout",
     "output_type": "stream",
     "text": [
      "0 5\n",
      "5 4\n",
      "9 3\n",
      "12 2\n",
      "14 1\n",
      "15 73\n",
      "88 20\n",
      "108 65\n",
      "173 19\n",
      "192 76\n",
      "268 100\n",
      "368 88\n",
      "456\n"
     ]
    }
   ],
   "source": [
    "my_numbers = [5,4,3,2,1]\n",
    "scores = [73, 20, 65, 19, 76, 100, 88]\n",
    "\n",
    "def accumulator(acc, item):\n",
    "    print(acc, item)\n",
    "    return acc + item\n",
    "\n",
    "print(reduce(accumulator, (my_numbers + scores), 0))\n"
   ]
  },
  {
   "cell_type": "code",
   "execution_count": 105,
   "metadata": {},
   "outputs": [
    {
     "name": "stdout",
     "output_type": "stream",
     "text": [
      "[2, 4, 6]\n",
      "[1, 3]\n",
      "6\n",
      "[1, 2, 3]\n"
     ]
    }
   ],
   "source": [
    "# lambda expressions - just used once, or anonymous functions\n",
    "# lambda param: action(param)\n",
    "\n",
    "from functools import reduce\n",
    "\n",
    "my_list=[1,2,3]\n",
    "\n",
    "print(list(map(lambda item: item*2, my_list)))\n",
    "print(list(filter(lambda item: item%2 !=0, my_list)))\n",
    "print(reduce(lambda acc,item: acc+item, my_list))\n",
    "\n",
    "print(my_list)"
   ]
  },
  {
   "cell_type": "code",
   "execution_count": null,
   "metadata": {},
   "outputs": [],
   "source": []
  },
  {
   "cell_type": "code",
   "execution_count": null,
   "metadata": {},
   "outputs": [],
   "source": []
  },
  {
   "cell_type": "code",
   "execution_count": null,
   "metadata": {},
   "outputs": [],
   "source": []
  },
  {
   "cell_type": "code",
   "execution_count": null,
   "metadata": {},
   "outputs": [],
   "source": []
  },
  {
   "cell_type": "code",
   "execution_count": null,
   "metadata": {},
   "outputs": [],
   "source": []
  },
  {
   "cell_type": "code",
   "execution_count": null,
   "metadata": {},
   "outputs": [],
   "source": []
  },
  {
   "cell_type": "code",
   "execution_count": null,
   "metadata": {},
   "outputs": [],
   "source": []
  },
  {
   "cell_type": "code",
   "execution_count": null,
   "metadata": {},
   "outputs": [],
   "source": []
  },
  {
   "cell_type": "code",
   "execution_count": null,
   "metadata": {},
   "outputs": [],
   "source": []
  },
  {
   "cell_type": "code",
   "execution_count": null,
   "metadata": {},
   "outputs": [],
   "source": []
  },
  {
   "cell_type": "code",
   "execution_count": null,
   "metadata": {},
   "outputs": [],
   "source": []
  },
  {
   "cell_type": "code",
   "execution_count": null,
   "metadata": {},
   "outputs": [],
   "source": []
  },
  {
   "cell_type": "code",
   "execution_count": null,
   "metadata": {},
   "outputs": [],
   "source": []
  },
  {
   "cell_type": "code",
   "execution_count": null,
   "metadata": {},
   "outputs": [],
   "source": []
  }
 ],
 "metadata": {
  "kernelspec": {
   "display_name": "Python 3",
   "language": "python",
   "name": "python3"
  },
  "language_info": {
   "codemirror_mode": {
    "name": "ipython",
    "version": 3
   },
   "file_extension": ".py",
   "mimetype": "text/x-python",
   "name": "python",
   "nbconvert_exporter": "python",
   "pygments_lexer": "ipython3",
   "version": "3.8.3"
  }
 },
 "nbformat": 4,
 "nbformat_minor": 4
}
